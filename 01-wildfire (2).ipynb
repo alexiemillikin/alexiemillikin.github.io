{
 "cells": [
  {
   "cell_type": "markdown",
   "metadata": {},
   "source": [
    "### Background\n",
    "\n",
    "Although wildfires are a natural function of many ecosystems, climate change is leading to increase risk and severity of wildfires in numerous ways. Decreased snowpack and earlier snowmelt, drying out of wetlands, thawing of permafrost and higher air temperature all mean that larger areas are prone to drought and wildfires. Additionally, with increasing development of fire-prone areas not only are fires started more freuqently, but the toll of human lives and property damage is greater. Increasing wildfires with warming creates a positive feedback whereby increased burning, especially of peatlands, releases significant carbon dioxide to the atmosphere and drive further warming. While the main strategy to mitigate damages from wildfires is to practice fire supression, these tactics have made current ecosystems more susceptible to burning. Recently, Schoennagela et al. (2017) advocate for terminating fire supression practices and instead focus on building fire-resitant communities by managing wild and prescribed burns and consciously planning development with a full-assesment of risk.\n",
    "\n",
    "\n",
    "### Sources:\n",
    "\n",
    "Pierre-Louis, K., & Popovich, N. (2018). Climate Change Is Fueling Wildfires Nationwide. New Report Warns. The New York Times www. nytimes.com.\n",
    "\n",
    "Schoennagel, T., Balch, J. K., Brenkert-Smith, H., Dennison, P. E., Harvey, B. J., Krawchuk, M. A., ... & Whitlock, C. (2017). Adapt to more wildfire in western North American forests as climate changes. Proceedings of the National Academy of Sciences, 114(18), 4582-4590.\n",
    "\n",
    "Sullivan, A., Baker, E., Kurvits, T., Popescu, A., Paulson, A. K., Cardinal Christianson, A., ... & Reisen, F. (2022). Spreading like wildfire: The rising threat of extraordinary landscape fires."
   ]
  },
  {
   "cell_type": "code",
   "execution_count": null,
   "metadata": {
    "deletable": false,
    "nbgrader": {
     "cell_type": "code",
     "checksum": "6f877ce12e05fcb22ab76b793ec817d4",
     "grade": false,
     "grade_id": "ans-import",
     "locked": false,
     "schema_version": 3,
     "solution": true,
     "task": false
    }
   },
   "outputs": [],
   "source": [
    "# Import packages\n",
    "import os\n",
    "import warnings\n",
    "\n",
    "import earthpy as et\n",
    "import geodatasets as gds\n",
    "import geopandas as gpd\n",
    "import geoviews as gv\n",
    "import holoviews as hv\n",
    "import hvplot.pandas\n",
    "import matplotlib.pyplot as plt\n",
    "import pandas as pd\n",
    "import pyogrio \n",
    "\n",
    "warnings.simplefilter('ignore')"
   ]
  },
  {
   "cell_type": "markdown",
   "metadata": {},
   "source": [
    "### Watershed Boundary Dataset description\n",
    "\n",
    "The Watershed Boundary Dataset for the US Geological Survey contains boundary data for watersheds across the United States at multiple nested scales. For this analysis we used regional hydrologic units denoted with a two-didgit code. In this analysis we evaluaate fire density within watersheds because these physiographic and hydrologic boundaries often dicate fire extent, and fires cause downstream effects. \n",
    "\n",
    "### Source:\n",
    "US Geological Survey. (2023, October). Watershed Boundary Dataset. US Geological Survey, Department of Interior. https://www.usgs.gov/national-hydrography/watershed-boundary-dataset\n",
    "\n",
    "U.S. Geological Survey, National Geospatial Technical Operations Center, 2023, Watershed Boundary Dataset (WBD) - USGS National Map Downloadable Data Collection: U.S. Geological Survey."
   ]
  },
  {
   "cell_type": "code",
   "execution_count": null,
   "metadata": {
    "deletable": false,
    "nbgrader": {
     "cell_type": "code",
     "checksum": "e8c6816fac4b9b8d3bb1496ce6406852",
     "grade": false,
     "grade_id": "ans-download-wbd",
     "locked": false,
     "schema_version": 3,
     "solution": true,
     "task": false
    }
   },
   "outputs": [],
   "source": [
    "# Download the WBD\n",
    "wbd_url = (\"https://prd-tnm.s3.amazonaws.com\"\n",
    "           \"/StagedProducts/Hydrography\"\n",
    "           \"/WBD/National/GDB/WBD_National_GDB.zip\")\n",
    "wbd_dir = et.data.get_data(url=wbd_url)\n",
    "wbd_dir"
   ]
  },
  {
   "cell_type": "code",
   "execution_count": null,
   "metadata": {
    "deletable": false,
    "nbgrader": {
     "cell_type": "code",
     "checksum": "6168f18aa86ffc73be9078e7a6f7963d",
     "grade": false,
     "grade_id": "ans-load-wbd",
     "locked": false,
     "schema_version": 3,
     "solution": true,
     "task": false
    }
   },
   "outputs": [],
   "source": [
    "# Download data\n",
    "wbd_path = os.path.join(wbd_dir, 'WBD_National_GDB.gdb')\n",
    "wbd_hu2_gdf = gpd.read_file(wbd_path, layer='WBDHU2', from_disk=True)\n",
    "# wbd_hu2_gdf"
   ]
  },
  {
   "cell_type": "markdown",
   "metadata": {},
   "source": [
    "### Description:\n",
    "\n",
    "The wildfire occurence data used in this analysis consists of a spatial databse of fire that occurred in the United States from 1992 to 2020, and were compiled from national, state and local agencies. Data fields for each fire include discovery date, location and fire size. \n",
    "\n",
    "### Source:\n",
    "\n",
    "Short, Karen C. 2022. Spatial wildfire occurrence data for the United States, 1992-2020 [FPA_FOD_20221014]. 6th Edition. Fort Collins, CO: Forest Service Research Data Archive. https://doi.org/10.2737/RDS-2013-0009.6"
   ]
  },
  {
   "cell_type": "code",
   "execution_count": null,
   "metadata": {
    "deletable": false,
    "nbgrader": {
     "cell_type": "code",
     "checksum": "de518902da9932fb88632849606000e0",
     "grade": false,
     "grade_id": "ans-download-fire",
     "locked": false,
     "schema_version": 3,
     "solution": true,
     "task": false
    }
   },
   "outputs": [],
   "source": [
    "# Download fire data\n",
    "fire_url = (\"https://www.fs.usda.gov/rds/archive/products\"\n",
    "            \"/RDS-2013-0009.6/RDS-2013-0009.6_Data_Format2_GDB.zip\")\n",
    "fire_dir = et.data.get_data(url=fire_url)\n",
    "fire_dir"
   ]
  },
  {
   "cell_type": "code",
   "execution_count": null,
   "metadata": {
    "deletable": false,
    "nbgrader": {
     "cell_type": "code",
     "checksum": "a1979308d856497266b2744ba4807254",
     "grade": false,
     "grade_id": "ans-import-fires",
     "locked": false,
     "schema_version": 3,
     "solution": true,
     "task": false
    }
   },
   "outputs": [],
   "source": [
    "# Download and read fire dataframe\n",
    "fire_path = os.path.join(fire_dir, 'Data', 'FPA_FOD_20221014.gdb')\n",
    "if not 'fire_gdf' in globals():\n",
    "    fire_gdf = pyogrio.read_dataframe(fire_path, layer='Fires')\n",
    "\n",
    "# fire_gdf.head()"
   ]
  },
  {
   "cell_type": "code",
   "execution_count": null,
   "metadata": {
    "deletable": false,
    "nbgrader": {
     "cell_type": "code",
     "checksum": "b11246850963b506bd5aa51e125f9efd",
     "grade": false,
     "grade_id": "ans-clean-firedb",
     "locked": false,
     "schema_version": 3,
     "solution": true,
     "task": false
    }
   },
   "outputs": [],
   "source": [
    "# Clean up geodataframe columns\n",
    "fire_clean_gdf = (\n",
    "    fire_gdf\n",
    "    [['FOD_ID', 'DISCOVERY_DATE', 'FIRE_SIZE', 'geometry']]\n",
    "    .set_index('FOD_ID')\n",
    ")\n",
    "fire_clean_gdf.DISCOVERY_DATE = pd.to_datetime(fire_clean_gdf.DISCOVERY_DATE)\n",
    "fire_clean_gdf = fire_clean_gdf.to_crs(wbd_hu2_gdf.crs)\n",
    "\n",
    "fire_clean_gdf"
   ]
  },
  {
   "cell_type": "code",
   "execution_count": null,
   "metadata": {
    "deletable": false,
    "nbgrader": {
     "cell_type": "code",
     "checksum": "62327a58d6463fd396d0d824cf275b5f",
     "grade": false,
     "grade_id": "ans-join",
     "locked": false,
     "schema_version": 3,
     "solution": true,
     "task": false
    }
   },
   "outputs": [],
   "source": [
    "# Join geodataframes\n",
    "fire_region_gdf = (\n",
    "    wbd_hu2_gdf\n",
    "    [['name', 'geometry']]\n",
    "    .sjoin(fire_clean_gdf, how='inner', predicate='intersects')\n",
    ")\n",
    "\n",
    "# Compute number of fire and total burn area\n",
    "fire_region_gdf = (\n",
    "    fire_region_gdf\n",
    "    .groupby(['name', fire_region_gdf.DISCOVERY_DATE.dt.year])\n",
    "    .agg(\n",
    "        num_fires = ('index_right', 'count'),\n",
    "        total_burn_area = ('FIRE_SIZE', 'sum'),\n",
    "    )\n",
    ")\n",
    "fire_region_gdf['total_burn_area_ma'] = fire_region_gdf['total_burn_area'] / 1000000\n",
    "\n",
    "# fire_region_gdf"
   ]
  },
  {
   "cell_type": "code",
   "execution_count": null,
   "metadata": {
    "deletable": false,
    "nbgrader": {
     "cell_type": "code",
     "checksum": "3a54c832d84c71639abbd577896d5434",
     "grade": false,
     "grade_id": "ans-density",
     "locked": false,
     "schema_version": 3,
     "solution": true,
     "task": false
    }
   },
   "outputs": [],
   "source": [
    "# Compute area of regional watersheds\n",
    "wbd_hu2_gdf['area_mha'] = (\n",
    "    wbd_hu2_gdf.to_crs(9822).area \n",
    "    # Convert to hectares\n",
    "    / 10000 \n",
    "    # Convert to millions of hectares\n",
    "    / 1000000\n",
    ")\n",
    "\n",
    "# Add the area back\n",
    "burn_density_gdf = (\n",
    "    wbd_hu2_gdf\n",
    "    .set_index('name')\n",
    "    .join(burn_area_df)\n",
    ")\n",
    "\n",
    "# Compute fire density\n",
    "burn_density_gdf['burn_density_a_mha'] = (\n",
    "    burn_density_gdf.total_burn_area / burn_density_gdf.area_mha)\n",
    "burn_density_gdf"
   ]
  },
  {
   "cell_type": "code",
   "execution_count": null,
   "metadata": {},
   "outputs": [],
   "source": [
    "burn_density_gdf = burn_density_gdf.reset_index()\n",
    "burn_density_gdf = burn_density_gdf.set_index('name')\n",
    "\n",
    "each_region = burn_density_gdf.index.unique()\n",
    "region_gdfs = {}\n",
    "\n",
    "for region in each_region:\n",
    "    region_gdfs[region] = burn_density_gdf.loc[region]\n"
   ]
  },
  {
   "cell_type": "code",
   "execution_count": null,
   "metadata": {},
   "outputs": [],
   "source": [
    "# Plot year vs. burn area densiity for each region\n",
    "\n",
    "plt.figure(figsize=(10, 6))\n",
    "for region,df in region_gdfs.items(): \n",
    "    plt.plot(df['DISCOVERY_DATE'], df['burn_density_a_mha'])\n",
    "plt.title('Burn are density over time and region')\n",
    "plt.xlabel('Year')\n",
    "plt.ylabel('Burn area density (acres/million hectares)')\n",
    "plt.grid(True)\n",
    "plt.show()"
   ]
  },
  {
   "cell_type": "code",
   "execution_count": null,
   "metadata": {
    "deletable": false,
    "nbgrader": {
     "cell_type": "code",
     "checksum": "4dc25ac71f7f21c1287051aeda9cba39",
     "grade": false,
     "grade_id": "ans-plot-time-series",
     "locked": false,
     "schema_version": 3,
     "solution": true,
     "task": false
    }
   },
   "outputs": [],
   "source": [
    "# Set ylabels and titles\n",
    "burn_density_gdf = burn_density_gdf.reset_index()\n",
    "burn_density_gdf = burn_density_gdf.set_index(['name', 'DISCOVERY_DATE'])\n",
    "labels = pd.DataFrame(dict(\n",
    "    column_name = ['total_burn_area_ma', 'num_fires'],\n",
    "    ylabel = ['Burn area (million ha)', 'Number of Fires'],\n",
    "    title = ['Total burn area in the region', \n",
    "             'Total number of fires on record in the region']))\n",
    "\n",
    "def fire_plot(region_name, df=burn_density_gdf, labels=labels):\n",
    "    \"\"\"\n",
    "    Create a multi-panel plot for a region\n",
    "\n",
    "  \n",
    "    Parameters\n",
    "    ----------\n",
    "    region_name : str\n",
    "      The name of the region to generate a plot for. Must exists \n",
    "      in the 'name' index of df.\n",
    "    df : pd.DataFrame\n",
    "      The dataframe with the data to plot. Columns much match\n",
    "      an item in labels.column_name to be plotted\n",
    "    labels : pd.DataFrame\n",
    "      Plot labels. Must have a 'column_name', 'ylabel', and 'title'\n",
    "      columns with str values. Each row will be a subplot.\n",
    "\n",
    "    Returns\n",
    "    -------\n",
    "    plot : hv.core.layout.Layout\n",
    "      A holoviews plot layout or similar. For use with hv.DynamicMap.\n",
    "    \"\"\"\n",
    "    # Generate a subplot for each row in the labels\n",
    "    subplots = []\n",
    "    # Iterate through the labels row by row\n",
    "    for i, labs in labels.iterrows():\n",
    "        # Create subplot\n",
    "        subplot = (\n",
    "            df.xs(region_name, level='name')\n",
    "            [[labs.column_name]]\n",
    "            .hvplot(\n",
    "                xlabel='Year', ylabel=labs.ylabel, title=labs.title\n",
    "            ))\n",
    "        # Disable x-axis scrolling\n",
    "        subplot = subplot.opts(responsive=False)\n",
    "        subplots.append(subplot)\n",
    "\n",
    "    # Stack the subplots vertically\n",
    "    plot = hv.Layout(subplots).cols(1).opts()\n",
    "    return plot\n",
    "\n",
    "# Create a dropdown menu to switch between regions\n",
    "(\n",
    "    hv.DynamicMap(\n",
    "        # The plotting function for the two-panel fire history\n",
    "        fire_plot,\n",
    "        # Define the dimension for the dropdown\n",
    "        kdims=[('region', 'Region')])\n",
    "    # Add the explicit indexing - region names as a bokeh dimension\n",
    "    .redim.values(region=fire_region_gdf.reset_index().name)\n",
    ")"
   ]
  },
  {
   "cell_type": "code",
   "execution_count": null,
   "metadata": {},
   "outputs": [],
   "source": [
    "# simplify fire density detaframe geometry\n",
    "burn_density_gdf.geometry = burn_density_gdf.geometry.simplify(tolerance=0.1)\n",
    "# burn_density_gdf"
   ]
  },
  {
   "cell_type": "code",
   "execution_count": null,
   "metadata": {},
   "outputs": [],
   "source": [
    "# Split dataframe into two for different decades\n",
    "idx = pd.IndexSlice\n",
    "burn_density_gdf_2000_2009 = burn_density_gdf.loc[idx[:, '2000':'2009'], :]\n",
    "burn_density_gdf_2010_2019 = burn_density_gdf.loc[idx[:, '2010':'2019'], :]\n",
    "\n",
    "# burn_density_gdf_2010_2019\n",
    "\n",
    "# Compute number of fire and total burn area\n",
    "burn_density_gdf_2000_2009 = (\n",
    "    burn_density_gdf_2000_2009\n",
    "    .groupby(['name'])\n",
    "    .agg(\n",
    "        dec_num_fires = ('num_fires', 'sum'),\n",
    "        dec_total_burn_area = ('total_burn_area_ma', 'sum'),\n",
    "    )\n",
    ")\n",
    "\n",
    "burn_density_gdf_2010_2019 = (\n",
    "    burn_density_gdf_2010_2019\n",
    "    .groupby(['name'])\n",
    "    .agg(\n",
    "        dec_num_fires = ('num_fires', 'sum'),\n",
    "        dec_total_burn_area = ('total_burn_area_ma', 'sum'),\n",
    "    )\n",
    ")\n",
    "\n",
    "# burn_density_gdf_2000_2009, burn_density_gdf_2010_2019\n",
    "\n",
    "# Merge dataframes for two decades\n",
    "dec_burn_density_merge_df = pd.merge(burn_density_gdf_2000_2009, burn_density_gdf_2010_2019, on='name', suffixes=('_2000_2009', '_2010_2019'))\n",
    "dec_burn_density_merge_df['num_fires_diff'] = dec_burn_density_merge_df['dec_num_fires_2010_2019'] - dec_burn_density_merge_df['dec_num_fires_2000_2009']\n",
    "dec_burn_density_merge_df['burn_area_diff'] = dec_burn_density_merge_df['dec_total_burn_area_2010_2019'] - dec_burn_density_merge_df['dec_total_burn_area_2000_2009']\n",
    "\n",
    "# Add the area back\n",
    "dec_burn_density_merge_gdf = (\n",
    "    wbd_hu2_gdf\n",
    "    .set_index('name')\n",
    "    .join(dec_burn_density_merge_df)\n",
    ")\n",
    "dec_burn_density_merge_gdf"
   ]
  },
  {
   "cell_type": "code",
   "execution_count": null,
   "metadata": {
    "deletable": false,
    "nbgrader": {
     "cell_type": "code",
     "checksum": "c175fcaeab7c480ecd4ef81b0c6b29e1",
     "grade": false,
     "grade_id": "ans-plot-chloropleth",
     "locked": false,
     "schema_version": 3,
     "solution": true,
     "task": false
    }
   },
   "outputs": [],
   "source": [
    "# plot burn area difference data \n",
    "poly_plot = (\n",
    "    gv.Polygons(\n",
    "        dec_burn_density_merge_gdf\n",
    "        .reset_index()\n",
    "        [['burn_area_diff', 'geometry']])\n",
    "    .opts(\n",
    "        width=600, height=600,\n",
    "        colorbar=True, color='burn_area_diff',\n",
    "        cmap='Spectral', line_color='white',\n",
    "        xaxis='bare', yaxis='bare', tools=['hover'],\n",
    "    )\n",
    ")\n",
    "gv.tile_sources.OSM * poly_plot\n"
   ]
  },
  {
   "cell_type": "code",
   "execution_count": null,
   "metadata": {},
   "outputs": [],
   "source": [
    "%%bash\n",
    "jupyter nbconvert 03-modis-ndvi.ipynb --to html --no-input"
   ]
  }
 ],
 "metadata": {
  "kernelspec": {
   "display_name": "Python 3 (ipykernel)",
   "language": "python",
   "name": "python3"
  },
  "language_info": {
   "codemirror_mode": {
    "name": "ipython",
    "version": 3
   },
   "file_extension": ".py",
   "mimetype": "text/x-python",
   "name": "python",
   "nbconvert_exporter": "python",
   "pygments_lexer": "ipython3",
   "version": "3.10.11"
  },
  "toc": {
   "base_numbering": 1,
   "nav_menu": {},
   "number_sections": true,
   "sideBar": true,
   "skip_h1_title": false,
   "title_cell": "Table of Contents",
   "title_sidebar": "Contents",
   "toc_cell": false,
   "toc_position": {},
   "toc_section_display": true,
   "toc_window_display": true
  },
  "varInspector": {
   "cols": {
    "lenName": 16,
    "lenType": 16,
    "lenVar": 40
   },
   "kernels_config": {
    "python": {
     "delete_cmd_postfix": "",
     "delete_cmd_prefix": "del ",
     "library": "var_list.py",
     "varRefreshCmd": "print(var_dic_list())"
    },
    "r": {
     "delete_cmd_postfix": ") ",
     "delete_cmd_prefix": "rm(",
     "library": "var_list.r",
     "varRefreshCmd": "cat(var_dic_list()) "
    }
   },
   "types_to_exclude": [
    "module",
    "function",
    "builtin_function_or_method",
    "instance",
    "_Feature"
   ],
   "window_display": false
  }
 },
 "nbformat": 4,
 "nbformat_minor": 4
}
